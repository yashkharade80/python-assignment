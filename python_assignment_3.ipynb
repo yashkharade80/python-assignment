{
  "nbformat": 4,
  "nbformat_minor": 0,
  "metadata": {
    "colab": {
      "name": "python assignment  3.ipynb",
      "provenance": [],
      "collapsed_sections": []
    },
    "kernelspec": {
      "name": "python3",
      "display_name": "Python 3"
    },
    "language_info": {
      "name": "python"
    }
  },
  "cells": [
    {
      "cell_type": "markdown",
      "source": [
        "# SET A List"
      ],
      "metadata": {
        "id": "sg3aqLXQUVZn"
      }
    },
    {
      "cell_type": "code",
      "source": [
        "#1) Write a Python program to sum all the items in a list.\n",
        "total = 0\n",
        "\n",
        "list = [27,34,76,16]\n",
        "\n",
        "for item in range(0, len(list)):\n",
        "\ttotal = total + list[item]\n",
        "\n",
        "print(\"Sum of all elements in given list:\",total)"
      ],
      "metadata": {
        "colab": {
          "base_uri": "https://localhost:8080/"
        },
        "id": "_lSGX9FJUr2-",
        "outputId": "047d2f99-1f6e-4677-fc13-1cafefc7f556"
      },
      "execution_count": 2,
      "outputs": [
        {
          "output_type": "stream",
          "name": "stdout",
          "text": [
            "Sum of all elements in given list: 153\n"
          ]
        }
      ]
    },
    {
      "cell_type": "code",
      "source": [
        "#2) Write a Python program to multiplies all the items in a list.\n",
        "def mult_list(list):\n",
        "\n",
        "    product = 1\n",
        "    for i in list:\n",
        "        product = product * i\n",
        "    return product\n",
        "\n",
        "\n",
        "list1 = [25,45,32,23]\n",
        "print(list1)\n",
        "print(\"product: \", mult_list(list1))"
      ],
      "metadata": {
        "colab": {
          "base_uri": "https://localhost:8080/"
        },
        "id": "dnVxCurOVAZT",
        "outputId": "c803eb35-55ca-4504-e175-925363a81346"
      },
      "execution_count": 4,
      "outputs": [
        {
          "output_type": "stream",
          "name": "stdout",
          "text": [
            "[25, 45, 32, 23]\n",
            "product:  828000\n"
          ]
        }
      ]
    },
    {
      "cell_type": "code",
      "source": [
        "#3) Write a Python program to get a list, sorted in increasing order by the last element in each tuple \n",
        "#from a given list of non-empty tuples.\n",
        "def last(n):\n",
        "    return n[-1]\n",
        "\n",
        "def sort(tuples):\n",
        "    return sorted(tuples, key=last)\n",
        "\n",
        "a=[(12,16), (14, 23), (32, 12)]\n",
        "print(\"Sorted in increasing order:\")\n",
        "print(sort(a))"
      ],
      "metadata": {
        "colab": {
          "base_uri": "https://localhost:8080/"
        },
        "id": "iDH5-AgHVP2-",
        "outputId": "c6268ce0-b1f5-4578-d1d6-ec01f32f579b"
      },
      "execution_count": 6,
      "outputs": [
        {
          "output_type": "stream",
          "name": "stdout",
          "text": [
            "Sorted in increasing order:\n",
            "[(32, 12), (12, 16), (14, 23)]\n"
          ]
        }
      ]
    },
    {
      "cell_type": "markdown",
      "source": [
        "# SET A Tuples"
      ],
      "metadata": {
        "id": "ApKEWSoGVs3m"
      }
    },
    {
      "cell_type": "code",
      "source": [
        "#1) Write a Python program to create a tuple.\n",
        "x = (30,40,50,60,70)\n",
        "y=(\"hello world\")\n",
        "print(x)\n",
        "print(\"Datatype of x= \", type(x))\n",
        "print(y)\n",
        "print(\"datatype of y+ \", type(y))"
      ],
      "metadata": {
        "colab": {
          "base_uri": "https://localhost:8080/"
        },
        "id": "00OXqeWGVyQl",
        "outputId": "fc0427dc-07a0-4c37-87d0-207dd8439828"
      },
      "execution_count": 9,
      "outputs": [
        {
          "output_type": "stream",
          "name": "stdout",
          "text": [
            "(30, 40, 50, 60, 70)\n",
            "Datatype of x=  <class 'tuple'>\n",
            "hello world\n",
            "datatype of y+  <class 'str'>\n"
          ]
        }
      ]
    },
    {
      "cell_type": "code",
      "source": [
        "#2) Write a Python program to create a tuple with different data types.\n",
        "tuple = (\"kalpesh\", False, \"9.23\", 20,'10')\n",
        "print(tuple)"
      ],
      "metadata": {
        "colab": {
          "base_uri": "https://localhost:8080/"
        },
        "id": "eguO_LhvWldY",
        "outputId": "9c430d7b-d6e3-4913-81df-6828230e899b"
      },
      "execution_count": 12,
      "outputs": [
        {
          "output_type": "stream",
          "name": "stdout",
          "text": [
            "('kalpesh', False, '9.23', 20, '10')\n"
          ]
        }
      ]
    },
    {
      "cell_type": "code",
      "source": [
        "#3) Write a Python program to check whether an element exists within a tuple\n",
        "t1 = (\"i\",\"_\",\"l\",\"o\",\"v\",\"e\",\"_\",\"i\",\"n\",\"d\",\"i\",\"a\")\n",
        "print(\"l\" in t1)\n",
        "print(\"_\" in t1)\n",
        "print(\"o\" in t1)"
      ],
      "metadata": {
        "colab": {
          "base_uri": "https://localhost:8080/"
        },
        "id": "UPluLnFuYI5Q",
        "outputId": "c1ff636f-1074-48c7-9f11-74c002c4772b"
      },
      "execution_count": 16,
      "outputs": [
        {
          "output_type": "stream",
          "name": "stdout",
          "text": [
            "True\n",
            "True\n",
            "True\n"
          ]
        }
      ]
    },
    {
      "cell_type": "markdown",
      "source": [
        "# SET A **Sets**"
      ],
      "metadata": {
        "id": "Cprw3yLWbKXl"
      }
    },
    {
      "cell_type": "code",
      "source": [
        "#1) Write a Python program to create a set.\n",
        "\n",
        "x=set([\"my\",\"name\", \"is\",\"kalpesh\"])\n",
        "print(x)\n",
        "print(type(x))"
      ],
      "metadata": {
        "colab": {
          "base_uri": "https://localhost:8080/"
        },
        "id": "dFGo4f9PbNYV",
        "outputId": "e3b5b364-f70a-45a7-95c2-3d1d518a10d9"
      },
      "execution_count": 18,
      "outputs": [
        {
          "output_type": "stream",
          "name": "stdout",
          "text": [
            "{'my', 'kalpesh', 'is', 'name'}\n",
            "<class 'set'>\n"
          ]
        }
      ]
    },
    {
      "cell_type": "code",
      "source": [
        "#2) Write a Python program to iterate over sets.\n",
        "num_set = set([0, 1, 2, 3, 4, 5])\n",
        "for n in num_set:\n",
        "  print(n, end=' ')\n",
        "\n",
        "print(\"\\n\\nCreating a set using string:\")\n",
        "char_set = set(\"kalpesh\")  \n",
        "\n",
        "for val in char_set:\n",
        "    print(val, end=' ')"
      ],
      "metadata": {
        "colab": {
          "base_uri": "https://localhost:8080/"
        },
        "id": "Ito5Lgfmb1cf",
        "outputId": "c3bbc1d6-0b77-463f-fb88-4880733d1107"
      },
      "execution_count": 20,
      "outputs": [
        {
          "output_type": "stream",
          "name": "stdout",
          "text": [
            "0 1 2 3 4 5 \n",
            "\n",
            "Creating a set using string:\n",
            "l a h s k p e "
          ]
        }
      ]
    },
    {
      "cell_type": "code",
      "source": [
        "#3) Write a Python program to create set difference.\n",
        "set1 = set([1, 1, 2, 3, 4, 5])\n",
        "set2 = set([1, 5, 6, 7, 8, 9])\n",
        "\n",
        "print(\"\\nOriginal sets:\")\n",
        "print(set1)\n",
        "print(set2)\n",
        "\n",
        "r1 = set1.difference(set2)\n",
        "print(\"\\nDifference of set1 - set2:\")\n",
        "print(r1)\n",
        "\n",
        "r2 = set2.difference(set1)\n",
        "print(\"\\nDifference of set2 - set1:\")\n",
        "print(r2)"
      ],
      "metadata": {
        "colab": {
          "base_uri": "https://localhost:8080/"
        },
        "id": "nkAD2zERb659",
        "outputId": "cc9a3928-5740-4c14-aecd-ed9f7313cd43"
      },
      "execution_count": 21,
      "outputs": [
        {
          "output_type": "stream",
          "name": "stdout",
          "text": [
            "\n",
            "Original sets:\n",
            "{1, 2, 3, 4, 5}\n",
            "{1, 5, 6, 7, 8, 9}\n",
            "\n",
            "Difference of set1 - set2:\n",
            "{2, 3, 4}\n",
            "\n",
            "Difference of set2 - set1:\n",
            "{8, 9, 6, 7}\n"
          ]
        }
      ]
    },
    {
      "cell_type": "markdown",
      "source": [
        "# SET A Dictionary"
      ],
      "metadata": {
        "id": "nRnVqlL1cOhV"
      }
    },
    {
      "cell_type": "code",
      "source": [
        "#1) Write a Python script to sort (ascending and descending) a dictionary by value.\n",
        "import operator\n",
        "d = {1: 2, 3: 4, 4: 3, 2: 1, 0: 0}\n",
        "print('Original dictionary : ',d)\n",
        "\n",
        "Sort_dict = dict( sorted(d.items(), key=operator.itemgetter(1)))\n",
        "print('Ascending order by value : ',Sort_dict)\n",
        "\n",
        "Sort_dict = dict( sorted(d.items(), key=operator.itemgetter(1),reverse=True))\n",
        "print('Descending order by value : ',Sort_dict)"
      ],
      "metadata": {
        "colab": {
          "base_uri": "https://localhost:8080/"
        },
        "id": "tN8CYQ3TcRS4",
        "outputId": "42a845cf-492a-4661-b583-7d79d7cf0d50"
      },
      "execution_count": 22,
      "outputs": [
        {
          "output_type": "stream",
          "name": "stdout",
          "text": [
            "Original dictionary :  {1: 2, 3: 4, 4: 3, 2: 1, 0: 0}\n",
            "Ascending order by value :  {0: 0, 2: 1, 1: 2, 4: 3, 3: 4}\n",
            "Descending order by value :  {3: 4, 4: 3, 1: 2, 2: 1, 0: 0}\n"
          ]
        }
      ]
    },
    {
      "cell_type": "code",
      "source": [
        "#2) Write a Python script to add a key to a dictionary.\n",
        "d = {0:10, 1:20}\n",
        "print(d)\n",
        "d.update({2:30})\n",
        "print(\"Updated Dictionary with key is this :\")\n",
        "print(d)"
      ],
      "metadata": {
        "colab": {
          "base_uri": "https://localhost:8080/"
        },
        "id": "kYVpM8D4cZty",
        "outputId": "8e9adc52-4541-4357-d31e-8d7a20956bc3"
      },
      "execution_count": 24,
      "outputs": [
        {
          "output_type": "stream",
          "name": "stdout",
          "text": [
            "{0: 10, 1: 20}\n",
            "Updated Dictionary with key is this :\n",
            "{0: 10, 1: 20, 2: 30}\n"
          ]
        }
      ]
    },
    {
      "cell_type": "code",
      "source": [
        "#3) Write a Python program to iterate over dictionaries using for loops.\n",
        "d = {'purple': 11, 'violet': 21, 'red': 14} \n",
        "for color_key, value in d.items():\n",
        "     print(color_key, 'corresponds to ', d[color_key])"
      ],
      "metadata": {
        "colab": {
          "base_uri": "https://localhost:8080/"
        },
        "id": "2lF2NclFcjk0",
        "outputId": "67a44501-4722-4229-f8d1-e9593c92abc8"
      },
      "execution_count": 26,
      "outputs": [
        {
          "output_type": "stream",
          "name": "stdout",
          "text": [
            "purple corresponds to  11\n",
            "violet corresponds to  21\n",
            "red corresponds to  14\n"
          ]
        }
      ]
    },
    {
      "cell_type": "markdown",
      "source": [
        "# SET B List"
      ],
      "metadata": {
        "id": "FlAVBsC5c7ip"
      }
    },
    {
      "cell_type": "code",
      "source": [
        "#1. Write a Python program to remove duplicates from a list.\n",
        "list1 = [1, 2, 3, 1, 2, 4, 5, 4 ,6, 2,5,8,8]\n",
        "print(\"List Before removing duplicates :\\n\", list1)\n",
        "list2 = [] #Temporary List\n",
        "\n",
        "for i in list1:\n",
        "    if i not in list2:\n",
        "        list2.append(i)\n",
        "\n",
        "list1 = list2\n",
        "\n",
        "print(\"List After removing duplicates :\\n\", list1)"
      ],
      "metadata": {
        "colab": {
          "base_uri": "https://localhost:8080/"
        },
        "id": "08DqsRj_c9qY",
        "outputId": "5d6ca421-bb47-4462-e61a-1046edfa8ee9"
      },
      "execution_count": 27,
      "outputs": [
        {
          "output_type": "stream",
          "name": "stdout",
          "text": [
            "List Before removing duplicates :\n",
            " [1, 2, 3, 1, 2, 4, 5, 4, 6, 2, 5, 8, 8]\n",
            "List After removing duplicates :\n",
            " [1, 2, 3, 4, 5, 6, 8]\n"
          ]
        }
      ]
    },
    {
      "cell_type": "code",
      "source": [
        "#2. Write a Python program to check a list is empty or not.\n",
        "def Enquiry(lis1):\n",
        "    if len(lis1) == 0:\n",
        "        return 0\n",
        "    else:\n",
        "        return 1\n",
        "        \n",
        "# Driver Code\n",
        "lis1 = [12,6]\n",
        "if Enquiry(lis1):\n",
        "    print (\"The list is not empty\")\n",
        "else:\n",
        "    print(\"Empty List\")"
      ],
      "metadata": {
        "colab": {
          "base_uri": "https://localhost:8080/"
        },
        "id": "OVzUxjURdC8K",
        "outputId": "92637a93-008a-4dab-9474-76f97f32ffb1"
      },
      "execution_count": 29,
      "outputs": [
        {
          "output_type": "stream",
          "name": "stdout",
          "text": [
            "The list is not empty\n"
          ]
        }
      ]
    },
    {
      "cell_type": "markdown",
      "source": [
        "# SET B Tuples"
      ],
      "metadata": {
        "id": "JkJR7gUCddLe"
      }
    },
    {
      "cell_type": "code",
      "source": [
        "#2. Write a Python program to remove an item from a tuple.\n",
        "tuple = [(1,2), (2.25, 9.9), (\"kalpesh\", \"patil\")]\n",
        "tuple.pop(1)\n",
        "print(tuple)"
      ],
      "metadata": {
        "colab": {
          "base_uri": "https://localhost:8080/"
        },
        "id": "0V4rQOskdejN",
        "outputId": "a04f9432-4779-443b-c631-7898cc1d9c65"
      },
      "execution_count": 36,
      "outputs": [
        {
          "output_type": "stream",
          "name": "stdout",
          "text": [
            "[(1, 2), ('kalpesh', 'patil')]\n"
          ]
        }
      ]
    },
    {
      "cell_type": "code",
      "source": [
        "#3. Write a Python program to slice a tuple.\n",
        "numTuple = (11, 22, 33, 44, 55, 66, 77, 88, 99, 100)\n",
        "print(\"Tuple Items = \", numTuple)\n",
        "\n",
        "slice1 = numTuple[1:7]\n",
        "print(\"sliced tuple from 2 to 6 = \", slice1)"
      ],
      "metadata": {
        "colab": {
          "base_uri": "https://localhost:8080/"
        },
        "id": "KyIYFGX0eUto",
        "outputId": "9fb201a9-6022-4d0e-998d-3116a881887b"
      },
      "execution_count": 38,
      "outputs": [
        {
          "output_type": "stream",
          "name": "stdout",
          "text": [
            "Tuple Items =  (11, 22, 33, 44, 55, 66, 77, 88, 99, 100)\n",
            "sliced tuple from 2 to 6 =  (22, 33, 44, 55, 66, 77)\n"
          ]
        }
      ]
    },
    {
      "cell_type": "code",
      "source": [
        "#4. Write a Python program to find the length of a tuple.\n",
        "tuple1 = (10, 20,\"kalpesh\")\n",
        "print(\"Tuple Items = \", tuple1)\n",
        "\n",
        "print(\"Tuple Length = \", len(tuple1))"
      ],
      "metadata": {
        "colab": {
          "base_uri": "https://localhost:8080/"
        },
        "id": "_lgzVX5XekfE",
        "outputId": "83f999ca-bbc6-4082-f7e2-c6c32de09f4f"
      },
      "execution_count": 40,
      "outputs": [
        {
          "output_type": "stream",
          "name": "stdout",
          "text": [
            "Tuple Items =  (10, 20, 'kalpesh')\n",
            "Tuple Length =  3\n"
          ]
        }
      ]
    },
    {
      "cell_type": "markdown",
      "source": [
        "SET B Sets"
      ],
      "metadata": {
        "id": "ab8c90KgexeS"
      }
    },
    {
      "cell_type": "code",
      "source": [
        "#1. Write a Python program to check if a set is a subset of another set.\n",
        "A = {1, 2, 3,4}\n",
        "B = {1, 2, 3, 4, 6}\n",
        "C = {1, 2, 4,4}\n",
        "\n",
        "print(\"A is SubSet B :\",A.issubset(B))\n",
        "\n",
        "print(\"B is SubSet A :\",B.issubset(A))\n",
        "\n",
        "print(\"A is SubSet C :\",A.issubset(C))\n",
        "\n",
        "print(\"C is SubSet B :\",C.issubset(B))"
      ],
      "metadata": {
        "colab": {
          "base_uri": "https://localhost:8080/"
        },
        "id": "shbh-TwOeyki",
        "outputId": "54200f5e-5d57-4632-87a3-8ceb766c41da"
      },
      "execution_count": 41,
      "outputs": [
        {
          "output_type": "stream",
          "name": "stdout",
          "text": [
            "A is SubSet B : True\n",
            "B is SubSet A : False\n",
            "A is SubSet C : False\n",
            "C is SubSet B : True\n"
          ]
        }
      ]
    },
    {
      "cell_type": "code",
      "source": [
        "#2. Write a Python program to find maximum and the minimum value in a set.\n",
        "setn = {5, 10, 3, 15, 2, 20}\n",
        "print(\"Original set elements:\")\n",
        "print(setn)\n",
        "print(type(setn))\n",
        "\n",
        "print(\"\\nMaximum value of the said set:\")\n",
        "print(max(setn))\n",
        "\n",
        "print(\"\\nMinimum value of the said set:\")\n",
        "print(min(setn))"
      ],
      "metadata": {
        "colab": {
          "base_uri": "https://localhost:8080/"
        },
        "id": "bp5OWFH-e5lL",
        "outputId": "919b7c8d-2c23-4e55-b70b-0502fae6a3ea"
      },
      "execution_count": 42,
      "outputs": [
        {
          "output_type": "stream",
          "name": "stdout",
          "text": [
            "Original set elements:\n",
            "{2, 3, 5, 10, 15, 20}\n",
            "<class 'set'>\n",
            "\n",
            "Maximum value of the said set:\n",
            "20\n",
            "\n",
            "Minimum value of the said set:\n",
            "2\n"
          ]
        }
      ]
    },
    {
      "cell_type": "code",
      "source": [
        "#3. Write a Python program to find the length of a set.\n",
        "setn = {5, 10, 3, 15, 2, 20}\n",
        "print(\"\\nOriginal set elements:\")\n",
        "print(setn)\n",
        "print(type(setn))\n",
        "print(\"Length of the set:\")\n",
        "print(len(setn))\n",
        "\n",
        "setn = {5, 5, 5, 5, 5, 5}\n",
        "print(\"\\nOriginal set elements:\")\n",
        "print(setn)\n",
        "print(\"Length of the set:\")\n",
        "print(len(setn))\n",
        "\n",
        "setn = {5, 5, 5, 5, 5, 5, 7}\n",
        "print(\"\\nOriginal set elements:\")\n",
        "print(setn)\n",
        "print(\"Length of the set:\")\n",
        "print(len(setn))"
      ],
      "metadata": {
        "colab": {
          "base_uri": "https://localhost:8080/"
        },
        "id": "hd5ZAPv8fCyd",
        "outputId": "bdae99a1-97c1-41e8-cd18-08f2a5102cc6"
      },
      "execution_count": 43,
      "outputs": [
        {
          "output_type": "stream",
          "name": "stdout",
          "text": [
            "\n",
            "Original set elements:\n",
            "{2, 3, 5, 10, 15, 20}\n",
            "<class 'set'>\n",
            "Length of the set:\n",
            "6\n",
            "\n",
            "Original set elements:\n",
            "{5}\n",
            "Length of the set:\n",
            "1\n",
            "\n",
            "Original set elements:\n",
            "{5, 7}\n",
            "Length of the set:\n",
            "2\n"
          ]
        }
      ]
    },
    {
      "cell_type": "markdown",
      "source": [
        "# SET B Dictionary"
      ],
      "metadata": {
        "id": "kWiqU-ASfIQV"
      }
    },
    {
      "cell_type": "code",
      "source": [
        "#1. Write a Python script to generate and print a dictionary that contains a number (between 1 and n) \n",
        "#in the form (x, x*x).\n",
        "n=int(input(\"Input a number :\"))\n",
        "d = dict()\n",
        "\n",
        "for x in range(1,n+1):\n",
        "    d[x]=x*x\n",
        "\n",
        "print(\"A number (between 1 and n) in the form (x, x*x) :\\n \",d) "
      ],
      "metadata": {
        "colab": {
          "base_uri": "https://localhost:8080/"
        },
        "id": "2NKx6m_3fNol",
        "outputId": "bc30a6a0-63d9-421e-815b-504c5f606233"
      },
      "execution_count": 44,
      "outputs": [
        {
          "output_type": "stream",
          "name": "stdout",
          "text": [
            "Input a number :7\n",
            "A number (between 1 and n) in the form (x, x*x) :\n",
            "  {1: 1, 2: 4, 3: 9, 4: 16, 5: 25, 6: 36, 7: 49}\n"
          ]
        }
      ]
    },
    {
      "cell_type": "code",
      "source": [
        "#2. Write a Python script to merge two Python dictionaries.\n",
        "d1 = {'a': 100, 'b': 200}\n",
        "print(\"Dictionary 1:\",d1)\n",
        "d2 = {'x': 300, 'y': 200}\n",
        "print(\"\\nDictionary 2:\",d2)\n",
        "d = d1.copy()\n",
        "d.update(d2)\n",
        "print(\"\\nMerged Dictionary :\\n\",d)"
      ],
      "metadata": {
        "colab": {
          "base_uri": "https://localhost:8080/"
        },
        "id": "PCKJKx4Dfd2N",
        "outputId": "b374e2ca-c110-4cc9-e00c-c507d23de3a6"
      },
      "execution_count": 45,
      "outputs": [
        {
          "output_type": "stream",
          "name": "stdout",
          "text": [
            "Dictionary 1: {'a': 100, 'b': 200}\n",
            "\n",
            "Dictionary 2: {'x': 300, 'y': 200}\n",
            "\n",
            "Merged Dictionary :\n",
            " {'a': 100, 'b': 200, 'x': 300, 'y': 200}\n"
          ]
        }
      ]
    },
    {
      "cell_type": "code",
      "source": [
        "#3. Write a Python program to get a dictionary from an object's fields.\n",
        "class dictObj(object):\n",
        "     def __init__(self):\n",
        "         self.x = 'red'\n",
        "         self.y = 'Yellow'\n",
        "         self.z = 'Green'\n",
        "     def do_nothing(self):\n",
        "         pass\n",
        "test = dictObj()\n",
        "print(test.__dict__)"
      ],
      "metadata": {
        "colab": {
          "base_uri": "https://localhost:8080/"
        },
        "id": "4cDmB6u-ff9D",
        "outputId": "9ede63d1-aabd-411c-cd1c-0649f887ff99"
      },
      "execution_count": 46,
      "outputs": [
        {
          "output_type": "stream",
          "name": "stdout",
          "text": [
            "{'x': 'red', 'y': 'Yellow', 'z': 'Green'}\n"
          ]
        }
      ]
    }
  ]
}