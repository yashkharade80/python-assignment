{
  "nbformat": 4,
  "nbformat_minor": 0,
  "metadata": {
    "colab": {
      "name": "python assignment 4.ipynb",
      "provenance": []
    },
    "kernelspec": {
      "name": "python3",
      "display_name": "Python 3"
    },
    "language_info": {
      "name": "python"
    }
  },
  "cells": [
    {
      "cell_type": "markdown",
      "source": [
        "# SET A"
      ],
      "metadata": {
        "id": "jEtYlvbVgZCh"
      }
    },
    {
      "cell_type": "code",
      "source": [
        "#1. Write a Python program to read an entire text file.\n",
        "def file_read(sample):\n",
        "    txt = open(sample)\n",
        "    print(txt.read())\n",
        "\n",
        "file_read(\"sample.txt\")"
      ],
      "metadata": {
        "id": "hJeKQmVmgi9E"
      },
      "execution_count": null,
      "outputs": []
    },
    {
      "cell_type": "code",
      "source": [
        "#2. Write a Python program to compute the number of characters, words and lines in a file.\n",
        "file = open(\"sample.txt\",\"r\")\n",
        "\n",
        "no_of_lines = 0\n",
        "no_of_words = 0\n",
        "no_of_char = 0\n",
        "\n",
        "for line in file:\n",
        "    line = line.strip(\"\\n\")   \n",
        "    words = line.split()\n",
        "\n",
        "    no_of_lines += 1\n",
        "    no_of_words += len(words)\n",
        "    no_of_char += len(line)\n",
        "\n",
        "file.close()\n",
        "print(\"lines:\", no_of_lines, \"words:\", no_of_words, \"char:\", no_of_char)"
      ],
      "metadata": {
        "id": "lR582401g1P8"
      },
      "execution_count": null,
      "outputs": []
    },
    {
      "cell_type": "code",
      "source": [
        "#3. Write a Python script to print the current date in following format “Sun May 29 02:26:23\n",
        "#IST 2017”\n",
        "import time\n",
        "ltime = time.localtime()\n",
        "print(time.strftime(\"%a %b %d %H:%M:%S %Z %Y\", ltime))"
      ],
      "metadata": {
        "colab": {
          "base_uri": "https://localhost:8080/"
        },
        "id": "jOxMzIp9g8Yp",
        "outputId": "9a70038c-ebc5-4878-d2e1-7bd673958258"
      },
      "execution_count": 5,
      "outputs": [
        {
          "output_type": "stream",
          "name": "stdout",
          "text": [
            "Fri Feb 25 10:53:46 UTC 2022\n"
          ]
        }
      ]
    },
    {
      "cell_type": "markdown",
      "source": [
        "# SET B"
      ],
      "metadata": {
        "id": "Fu7kwwmJhF8F"
      }
    },
    {
      "cell_type": "code",
      "source": [
        "#1. Write a Python program to append text to a file and display the text.\n",
        "testfile = open(\"sample.txt\", \"a\")\n",
        "\n",
        "testfile.write(\"\\n welcome to python practical\")\n",
        "testfile.close()\n",
        "\n",
        "appended_file = open(\"sample.txt\", \"r\")\n",
        "print(appended_file.read())"
      ],
      "metadata": {
        "id": "tABYfTv4hIDU"
      },
      "execution_count": null,
      "outputs": []
    },
    {
      "cell_type": "code",
      "source": [
        "#2. Write a Python program to print each line of a file in reverse order.\n",
        "f1 = open(\"sample.txt\", \"w\")\n",
        "\n",
        "with open(\"sample.txt\", \"r\") as myfile:\n",
        "\tdata = myfile.read()\n",
        "data_1 = data[::-1]\n",
        "f1.write(data_1)\n",
        "f1.close()\n",
        "print(\"done\")"
      ],
      "metadata": {
        "id": "-FAq6-SAlm1D"
      },
      "execution_count": null,
      "outputs": []
    },
    {
      "cell_type": "code",
      "source": [
        "#3. Write a Python program to append text to a file and display the text.\n",
        "def file_read(fname):\n",
        "        from itertools import islice\n",
        "        with open(fname, \"w\") as myfile:\n",
        "                myfile.write(\"Python practical\\n\")\n",
        "                myfile.write(\"Assignment 4\")\n",
        "        txt = open(fname)\n",
        "        print(txt.read())\n",
        "file_read('sample1.txt')"
      ],
      "metadata": {
        "id": "xs_MMdCZltGb"
      },
      "execution_count": null,
      "outputs": []
    }
  ]
}