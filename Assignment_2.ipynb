{
  "nbformat": 4,
  "nbformat_minor": 0,
  "metadata": {
    "colab": {
      "name": "Assignment 2.ipynb",
      "provenance": []
    },
    "kernelspec": {
      "name": "python3",
      "display_name": "Python 3"
    },
    "language_info": {
      "name": "python"
    }
  },
  "cells": [
    {
      "cell_type": "markdown",
      "source": [
        ""
      ],
      "metadata": {
        "id": "hKkX7bTxpc42"
      }
    },
    {
      "cell_type": "code",
      "execution_count": null,
      "metadata": {
        "colab": {
          "base_uri": "https://localhost:8080/"
        },
        "id": "gTAhKrzQpIyG",
        "outputId": "7225a79b-dcc2-4062-f6b1-e0dc2848226d"
      },
      "outputs": [
        {
          "output_type": "stream",
          "name": "stdout",
          "text": [
            "Enter any stringmadam\n",
            "given string is Not Symmetrical\n",
            "given string is Palindrome\n"
          ]
        }
      ],
      "source": [
        "#1.Write a python program to check whether the string is Symmetrical or Palindrome\n",
        "def symmetrical(str1,str2):\n",
        " if(str1==str2):\n",
        "     print(\"given string is Symmetrical\")\n",
        " else:\n",
        "     print(\"given string is Not Symmetrical\")\n",
        "def palindrome(str1,str2):\n",
        " if(str1==str2[::-1]):\n",
        "   print(\"given string is Palindrome\")\n",
        " else:\n",
        "   print(\"given string is Not Palindrome\")\n",
        "\n",
        "str=input(\"Enter any string\")\n",
        "size=len(str)\n",
        "mid=size//2\n",
        "if(size%2==0):\n",
        "    str1=str[:mid]\n",
        "    str2=str[mid:]\n",
        "else:\n",
        "    str1=str[:mid]\n",
        "    str2=str[mid+1:]\n",
        "symmetrical(str1,str2)\n",
        "palindrome(str1,str2)"
      ]
    },
    {
      "cell_type": "code",
      "source": [
        "#2.Write a python program to Reverse words in a given String\n",
        "string = \"its kalpesh \"\n",
        "words = string.split()\n",
        "words = list(reversed(words))\n",
        "print(\" \".join(words))"
      ],
      "metadata": {
        "colab": {
          "base_uri": "https://localhost:8080/"
        },
        "id": "JBXp2SW-prT1",
        "outputId": "da95a523-99f5-42ad-90ad-504fa11142ab"
      },
      "execution_count": null,
      "outputs": [
        {
          "output_type": "stream",
          "name": "stdout",
          "text": [
            "kalpesh its\n"
          ]
        }
      ]
    },
    {
      "cell_type": "code",
      "source": [
        "#3.Write a python program to remove i’th character from string in different ways\n",
        "def remove_char(s, i):\n",
        "    a = s[ : i]\n",
        "    b = s[i + 1: ]\n",
        "\n",
        "    return a+b\n",
        "\n",
        "string = \"i want car\"\n",
        "# Remove ith index element\n",
        "i = 7\n",
        "print(remove_char(string,i-1))"
      ],
      "metadata": {
        "colab": {
          "base_uri": "https://localhost:8080/"
        },
        "id": "7WrbAZq6prhP",
        "outputId": "3687377b-d752-4dbc-ec06-28cd86d04cc6"
      },
      "execution_count": null,
      "outputs": [
        {
          "output_type": "stream",
          "name": "stdout",
          "text": [
            "i wantcar\n"
          ]
        }
      ]
    },
    {
      "cell_type": "markdown",
      "source": [
        "#  set B functions"
      ],
      "metadata": {
        "id": "ew-6QGRUQrtD"
      }
    },
    {
      "cell_type": "code",
      "source": [
        "#1.Write a Python function to find the Max of three numbers.\n",
        "n1=int(input(\"Enter first number: \"));\n",
        "n2=int(input(\"Enter second number: \"));\n",
        "n3=int(input(\"Enter Third number: \"));\n",
        "def max():\n",
        "    if(n1>=n2) and (n1>=n3):\n",
        "        l=n1\n",
        "    elif(n2>=n1) and (n2>=n3):\n",
        "         l=n2\n",
        "    else:\n",
        "         l=n3\n",
        "    print(\"Largest number among  the three is\",l)\n",
        "max()"
      ],
      "metadata": {
        "id": "9Rme6ampprqr",
        "colab": {
          "base_uri": "https://localhost:8080/"
        },
        "outputId": "8ec44632-10c2-4fa3-b253-c07837612979"
      },
      "execution_count": 1,
      "outputs": [
        {
          "output_type": "stream",
          "name": "stdout",
          "text": [
            "Enter first number: 7\n",
            "Enter second number: 12\n",
            "Enter Third number: 25\n",
            "Largest number among  the three is 25\n"
          ]
        }
      ]
    },
    {
      "cell_type": "code",
      "source": [
        "#2.Write a Python function to sum all the numbers in a list.\n",
        "def sum(numbers):\n",
        "    total = 0\n",
        "    for x in numbers:\n",
        "        total += x\n",
        "    return total\n",
        "print(sum((8, 2, 3, 0, 7)))"
      ],
      "metadata": {
        "id": "4qmwLa47prtm",
        "colab": {
          "base_uri": "https://localhost:8080/"
        },
        "outputId": "9eda3cea-e198-4efa-8f63-c2d2926760a4"
      },
      "execution_count": 2,
      "outputs": [
        {
          "output_type": "stream",
          "name": "stdout",
          "text": [
            "20\n"
          ]
        }
      ]
    },
    {
      "cell_type": "code",
      "source": [
        "#3.Write a Python program to reverse a string.\n",
        "def reverse(str):   \n",
        "    str = str[::-1]   \n",
        "    return str   \n",
        "    \n",
        "s = \"these is reverse string example\"  \n",
        "print (\"The original string  is : \",s)   \n",
        "print (\"The reversed string using extended slice operator  is : \",reverse(s))  "
      ],
      "metadata": {
        "colab": {
          "base_uri": "https://localhost:8080/"
        },
        "id": "fYNayZvFRVIp",
        "outputId": "125171f9-5044-4f95-c486-b8bac75f523f"
      },
      "execution_count": 3,
      "outputs": [
        {
          "output_type": "stream",
          "name": "stdout",
          "text": [
            "The original string  is :  these is reverse string example\n",
            "The reversed string using extended slice operator  is :  elpmaxe gnirts esrever si eseht\n"
          ]
        }
      ]
    },
    {
      "cell_type": "markdown",
      "source": [
        "# set B (strings)"
      ],
      "metadata": {
        "id": "WpqQEVRhRp0I"
      }
    },
    {
      "cell_type": "code",
      "source": [
        "#1.Write a python program to print even length words in a string\n",
        "def printWords(s):\n",
        "    print(s)\n",
        "    s = s.split(' ') \n",
        "    for word in s: \n",
        "        if len(word)%2==0:\n",
        "            print(word) \n",
        "            \n",
        "    s = \"the example of string counting\" \n",
        "printWords(s) "
      ],
      "metadata": {
        "colab": {
          "base_uri": "https://localhost:8080/"
        },
        "id": "FlnkS95oRvmJ",
        "outputId": "f7ea7961-6845-4a48-aa3d-c5253d2c5905"
      },
      "execution_count": 4,
      "outputs": [
        {
          "output_type": "stream",
          "name": "stdout",
          "text": [
            "these is reverse string example\n",
            "is\n",
            "string\n"
          ]
        }
      ]
    },
    {
      "cell_type": "code",
      "source": [
        "#2.Write a python program to accept the strings which contains all vowels\n",
        "def check(string):\n",
        "    string = string.replace(' ', '')\n",
        "    string = string.lower()\n",
        "    vowel = [string.count('a'), string.count('e'), string.count(\n",
        "        'i'), string.count('o'), string.count('u')]\n",
        "\n",
        "    if vowel.count(0) > 0:\n",
        "        return('not accepted')\n",
        "    else:\n",
        "        return('accepted')\n",
        "\n",
        "if __name__ == \"__main__\":\n",
        "\n",
        "    string = input(\"Enter string:\")\n",
        "    print(check(string))"
      ],
      "metadata": {
        "colab": {
          "base_uri": "https://localhost:8080/"
        },
        "id": "NWXk-F11SD0g",
        "outputId": "2d1dfff6-18dd-4974-f0eb-f46a9c802f7b"
      },
      "execution_count": 5,
      "outputs": [
        {
          "output_type": "stream",
          "name": "stdout",
          "text": [
            "Enter string:kalpesh\n",
            "not accepted\n"
          ]
        }
      ]
    },
    {
      "cell_type": "code",
      "source": [
        "#3.Write a python program to Count the Number of matching characters in a pair of string\n",
        "import re\n",
        "ip1 = input(\"Enter string1:\")\n",
        "ip2 = input(\"Enter string2:\")\n",
        "  \n",
        "c = 0\n",
        "for i in ip1:\n",
        "    if re.search(i,ip2):\n",
        "        c=c+1\n",
        "print(\"No. of matching characters are \", c)"
      ],
      "metadata": {
        "colab": {
          "base_uri": "https://localhost:8080/"
        },
        "id": "6AdEXKflSEAe",
        "outputId": "6815b8db-92d8-4495-9359-5a624084e3e6"
      },
      "execution_count": 6,
      "outputs": [
        {
          "output_type": "stream",
          "name": "stdout",
          "text": [
            "Enter string1:am in heaven\n",
            "Enter string2:i am in heaven\n",
            "No. of matching characters are  12\n"
          ]
        }
      ]
    },
    {
      "cell_type": "markdown",
      "source": [
        "# set B (Functions)"
      ],
      "metadata": {
        "id": "F_46I5qiSpse"
      }
    },
    {
      "cell_type": "code",
      "source": [
        "#1. Write a Python function that takes a list and returns a new list with unique elements of the first list\n",
        "def f(list):\n",
        "\n",
        "    a=set(list)\n",
        "\n",
        "    print(sorted(a))\n",
        "\n",
        "f([78,75,78,78,45,75,12,78])"
      ],
      "metadata": {
        "colab": {
          "base_uri": "https://localhost:8080/"
        },
        "id": "JBMT_XTMSxEw",
        "outputId": "f40a2ab8-1d58-4a33-a112-b4ad1dd82c1d"
      },
      "execution_count": 8,
      "outputs": [
        {
          "output_type": "stream",
          "name": "stdout",
          "text": [
            "[12, 45, 75, 78]\n"
          ]
        }
      ]
    },
    {
      "cell_type": "code",
      "source": [
        "#2.Write a Python function that takes a number as a parameter and check the number is prime or not\n",
        "def PrimeChecker(a):  \n",
        "    if a > 1:  \n",
        "        for j in range(2, int(a/2) + 1):  \n",
        "            if (a % j) == 0:  \n",
        "                print(a, \"is not a prime number\")  \n",
        "                break  \n",
        "        else:  \n",
        "            print(a, \"is a prime number\")  \n",
        "    else:  \n",
        "        print(a, \"is not a prime number\")  \n",
        "a = int(input(\"Enter an input number:\"))  \n",
        "PrimeChecker(a)  "
      ],
      "metadata": {
        "colab": {
          "base_uri": "https://localhost:8080/"
        },
        "id": "66tmH-CWTBlO",
        "outputId": "db58f058-92da-49df-e623-9035b4ed2cc6"
      },
      "execution_count": 9,
      "outputs": [
        {
          "output_type": "stream",
          "name": "stdout",
          "text": [
            "Enter an input number:7\n",
            "7 is a prime number\n"
          ]
        }
      ]
    },
    {
      "cell_type": "code",
      "source": [
        "#3.Write a Python function to check whether a number is perfect or not\n",
        "n = int(input(\"Enter any number: \"))\n",
        "sum1 = 0\n",
        "for i in range(1, n):\n",
        "    if(n % i == 0):\n",
        "        sum1 = sum1 + i\n",
        "if (sum1 == n):\n",
        "    print(\"The number is a Perfect number!\")\n",
        "else:\n",
        "    print(\"The number is not a Perfect number!\")"
      ],
      "metadata": {
        "colab": {
          "base_uri": "https://localhost:8080/"
        },
        "id": "j6hYkbxYTS_4",
        "outputId": "8a055a90-8413-4613-b5b6-28eb10324f86"
      },
      "execution_count": 10,
      "outputs": [
        {
          "output_type": "stream",
          "name": "stdout",
          "text": [
            "Enter any number: 78\n",
            "The number is not a Perfect number!\n"
          ]
        }
      ]
    }
  ]
}