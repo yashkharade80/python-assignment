{
  "nbformat": 4,
  "nbformat_minor": 0,
  "metadata": {
    "colab": {
      "name": "python assignment 5.ipynb",
      "provenance": []
    },
    "kernelspec": {
      "name": "python3",
      "display_name": "Python 3"
    },
    "language_info": {
      "name": "python"
    }
  },
  "cells": [
    {
      "cell_type": "markdown",
      "source": [
        "# SET A"
      ],
      "metadata": {
        "id": "KYwAwwkjmQ_K"
      }
    },
    {
      "cell_type": "code",
      "source": [
        "#1. Write a Python program to demonstrate the zero division error and overflow error\n",
        "import math\n",
        "data = 50\n",
        "try:\n",
        "    data = data / 0  # data = data / 5\n",
        "except ZeroDivisionError:\n",
        "    print(\"Zero Division Error\")\n",
        "else:\n",
        "    print(\"Division successful :\", data) #Division successful : 10\n",
        "try:\n",
        "    a = math.exp(1000) #math.exp(2)\n",
        "    print(a) #7.38905609893065\n",
        "   \n",
        "except OverflowError:\n",
        "    print(\"Overflow Error\")"
      ],
      "metadata": {
        "colab": {
          "base_uri": "https://localhost:8080/"
        },
        "id": "YCd5aga1mT4F",
        "outputId": "ff1f6da6-72b6-447e-9800-790541efad25"
      },
      "execution_count": 1,
      "outputs": [
        {
          "output_type": "stream",
          "name": "stdout",
          "text": [
            "Zero Division Error\n",
            "Overflow Error\n"
          ]
        }
      ]
    },
    {
      "cell_type": "code",
      "source": [
        "#2. Write a Python program to find sequences of lowercase letters joined with a underscore\n",
        "import re\n",
        "def match(text):\n",
        "        pattern = '[a-z]+_[a-z]+$'\n",
        "        if re.search(pattern, text):\n",
        "                return('Yes')\n",
        "        else:\n",
        "                return('No')\n",
        "print(match(input(\"Enter Text :\")))"
      ],
      "metadata": {
        "colab": {
          "base_uri": "https://localhost:8080/"
        },
        "id": "yASkHVZwmYc1",
        "outputId": "0206b867-5880-4e47-e4cc-f7e7ec19462d"
      },
      "execution_count": 2,
      "outputs": [
        {
          "output_type": "stream",
          "name": "stdout",
          "text": [
            "Enter Text :kalpesh patil tybcs\n",
            "No\n"
          ]
        }
      ]
    },
    {
      "cell_type": "code",
      "source": [
        "#3. Write a python program to Check if String Contain Only Defined Characters using Regex\n",
        "import re\n",
        "def check(str, pattern):\n",
        "\t\n",
        "\tif re.search(pattern, str):\n",
        "\t\tprint(\"Valid String\")\n",
        "\telse:\n",
        "\t\tprint(\"Invalid String\")\n",
        "\n",
        "pattern = re.compile('^[179]+$')\n",
        "check('179', pattern)\n",
        "check('157', pattern)"
      ],
      "metadata": {
        "colab": {
          "base_uri": "https://localhost:8080/"
        },
        "id": "TWl-hw5Xmimq",
        "outputId": "29306a17-9fbf-4fb1-b0a6-fa80569dd0f6"
      },
      "execution_count": 3,
      "outputs": [
        {
          "output_type": "stream",
          "name": "stdout",
          "text": [
            "Valid String\n",
            "Invalid String\n"
          ]
        }
      ]
    },
    {
      "cell_type": "markdown",
      "source": [
        "#  SET B"
      ],
      "metadata": {
        "id": "zOyozB0vmrGh"
      }
    },
    {
      "cell_type": "code",
      "source": [
        "#1. Write a Python program to match a string that contains only upper and lowercase letters,\n",
        "#numbers, and underscores.Write a Python program to raised the attribute error, if attribute\n",
        "#class object has no attribute with the name attribute.\n",
        "import re\n",
        "def text_match(text):\n",
        "        patterns = '^[a-zA-Z0-9_]*$'\n",
        "        if re.search(patterns,  text):\n",
        "                return 'Found a match!'\n",
        "        else:\n",
        "                return('Not matched!')\n",
        "\n",
        "print(text_match(\"The quick brown fox jumps over the lazy dog.\"))\n",
        "print(text_match(\"Python_is_1_Programming_language\"))"
      ],
      "metadata": {
        "colab": {
          "base_uri": "https://localhost:8080/"
        },
        "id": "F9RP9p5bmxRq",
        "outputId": "491fe04b-da80-44d3-b21a-8412e75c978e"
      },
      "execution_count": 4,
      "outputs": [
        {
          "output_type": "stream",
          "name": "stdout",
          "text": [
            "Not matched!\n",
            "Found a match!\n"
          ]
        }
      ]
    },
    {
      "cell_type": "code",
      "source": [
        "#1. Write a Python program to match a string that contains only upper and lowercase letters,\n",
        "#numbers, and underscores.Write a Python program to raised the attribute error, if attribute\n",
        "#class object has no attribute with the name attribute.\n",
        "import re\n",
        "def text_match(text):\n",
        "        patterns = '^[a-zA-Z0-9_]*$'\n",
        "        if re.search(patterns,  text):\n",
        "                return 'Found a match!'\n",
        "        else:\n",
        "                return('Not matched!')\n",
        "\n",
        "print(text_match(\"The quick brown fox jumps over the lazy dog.\"))\n",
        "print(text_match(\"Python_is_1_Programming_language\"))"
      ],
      "metadata": {
        "colab": {
          "base_uri": "https://localhost:8080/"
        },
        "id": "Q0ZaPIIIm1jk",
        "outputId": "889e3ff8-7528-4b45-d50e-064661deb420"
      },
      "execution_count": 5,
      "outputs": [
        {
          "output_type": "stream",
          "name": "stdout",
          "text": [
            "Not matched!\n",
            "Found a match!\n"
          ]
        }
      ]
    },
    {
      "cell_type": "code",
      "source": [
        "#3. Write a python to| Remove all characters except letters and numbers\n",
        "import re \n",
        "my_string = \"python123:, .@! abc\" \n",
        "print (\"The string is : \") \n",
        "print(my_string) \n",
        "result = re.sub('[\\W_]+', '', my_string) \n",
        "print (\"The String after Removal is :\") \n",
        "print(result)"
      ],
      "metadata": {
        "id": "yj1eGPQvm80h",
        "outputId": "3cc08084-4043-4313-ddbf-4d4618bf4506",
        "colab": {
          "base_uri": "https://localhost:8080/"
        }
      },
      "execution_count": 6,
      "outputs": [
        {
          "output_type": "stream",
          "name": "stdout",
          "text": [
            "The string is : \n",
            "python123:, .@! abc\n",
            "The String after Removal is :\n",
            "python123abc\n"
          ]
        }
      ]
    }
  ]
}